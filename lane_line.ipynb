import numpy as np
import matplotlib.pyplot as plt
import cv2

def canny(image):
 blur = cv2.GaussianBlur(image,(5,5),0)
 canny=cv2.Canny(blur,50,150)
 return canny

def display_lines(image,lines):
    line_image=np.zeros_like(image)
    if lines is not None:
        for line in lines:
           x1,y1,x2,y2=line.reshape(4) #reshape line into 1D with 4 elements
           cv2.line(line_image,(x1,y1),(x2,y2),(255, 0,0),10)
    return line_image       
           
def region_of_interest(image):
 height=image.shape[0]
 polygons = np.array([
  [(200,height),(1100,height),(550,250)]
 ])
 mask=np.zeros_like(image)
 cv2.fillPoly(mask,polygons,255)
 masked_image=cv2.bitwise_and(image,mask)
 return masked_image


#img = cv2.imread('G:/Study/Autonomous Car/test_image.jpg',cv2.IMREAD_GRAYSCALE)
img = cv2.imread('G:/Study/Autonomous Car/test_image.jpg')
lane_image=np.copy(img)
canny =canny(img)
cropped_image=region_of_interest(canny)
lines=cv2.HoughLinesP(cropped_image,2,np.pi/180,100,np.array([]),minLineLength=40,maxLineGap=5)
line_image=display_lines(lane_image,lines)
final_im=cv2.addWeighted(lane_image,0.8, line_image,1,1)
cv2.imshow('Test image',final_im)
cv2.waitKey(0)
cv2.destroyAllWindows()



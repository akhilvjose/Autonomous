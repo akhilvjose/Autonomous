import numpy as np
import matplotlib.pyplot as plt
import cv2

def canny(image):
 blur = cv2.GaussianBlur(image,(5,5),0)
 canny=cv2.Canny(blur,100,150)
 return canny

def region_of_Interest(image)
 height=image.shape[0]
 polygons = np.array([
  [(200,height),(1100,height),(550,250)]
 ])
 mask=np.zeros_like(image)
 cv2.fillPoly(mask,polygons,255)
 return mask
img = cv2.imread('G:/Study/Autonomous Car/test_image.jpg',cv2.IMREAD_GRAYSCALE)

canny =canny(img)
cv2.imshow('Test image',region_of_Interest(canny))
cv2.waitKey(0)
cv2.destroyAllWindows()


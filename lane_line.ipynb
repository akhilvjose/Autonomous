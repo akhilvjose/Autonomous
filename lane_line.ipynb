import numpy as np
import matplotlib.pyplot as plt
import cv2

img = cv2.imread('G:/Study/Autonomous Car/test_image.jpg',cv2.IMREAD_GRAYSCALE)

blur = cv2.GaussianBlur(img,(5,5),0)
canny=cv2.Canny(blur,100,150)
 
cv2.imshow('Test image',canny)
cv2.waitKey(0)
cv2.destroyAllWindows()
